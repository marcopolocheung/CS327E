{
 "cells": [
  {
   "cell_type": "markdown",
   "id": "30920019",
   "metadata": {},
   "source": [
    "https://www.db-fiddle.com/"
   ]
  },
  {
   "cell_type": "markdown",
   "id": "30053c25",
   "metadata": {},
   "source": [
    "/RDBMSGeneralStructure.png:\n",
    "- Underlying storage devices holding the actual data (disk, memory)\n",
    "- Set of executing processes providing access to the data\n",
    "- Schema (DDL) and SQL code (DML)\n",
    "- Known as the ‘DB instance’"
   ]
  },
  {
   "cell_type": "markdown",
   "id": "f3a500a4",
   "metadata": {},
   "source": []
  },
  {
   "cell_type": "markdown",
   "id": "01273ce6",
   "metadata": {},
   "source": []
  }
 ],
 "metadata": {
  "language_info": {
   "name": "python"
  }
 },
 "nbformat": 4,
 "nbformat_minor": 5
}
